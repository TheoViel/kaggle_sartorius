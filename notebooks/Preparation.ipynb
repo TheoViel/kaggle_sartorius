{
 "cells": [
  {
   "cell_type": "markdown",
   "metadata": {},
   "source": [
    "**About** : This notebook is used to prepare the data\n"
   ]
  },
  {
   "cell_type": "code",
   "execution_count": null,
   "metadata": {},
   "outputs": [],
   "source": [
    "%load_ext autoreload\n",
    "%autoreload 2"
   ]
  },
  {
   "cell_type": "code",
   "execution_count": null,
   "metadata": {},
   "outputs": [],
   "source": [
    "cd ../src/"
   ]
  },
  {
   "cell_type": "markdown",
   "metadata": {},
   "source": [
    "## Initialization"
   ]
  },
  {
   "cell_type": "markdown",
   "metadata": {},
   "source": [
    "### Imports"
   ]
  },
  {
   "cell_type": "code",
   "execution_count": null,
   "metadata": {},
   "outputs": [],
   "source": [
    "import os\n",
    "import cv2\n",
    "import pycocotools\n",
    "import numpy as np\n",
    "import pandas as pd\n",
    "import seaborn as sns\n",
    "import matplotlib.pyplot as plt\n",
    "\n",
    "from collections import Counter\n",
    "from tqdm.notebook import tqdm"
   ]
  },
  {
   "cell_type": "code",
   "execution_count": null,
   "metadata": {},
   "outputs": [],
   "source": [
    "from params import *\n",
    "from utils.rle import rles_to_mask_fix\n",
    "from utils.plots import plot_sample\n",
    "from data.preparation import prepare_mmdet_data"
   ]
  },
  {
   "cell_type": "markdown",
   "metadata": {},
   "source": [
    "## Data"
   ]
  },
  {
   "cell_type": "code",
   "execution_count": null,
   "metadata": {},
   "outputs": [],
   "source": [
    "df = pd.read_csv(DATA_PATH + \"train.csv\")"
   ]
  },
  {
   "cell_type": "code",
   "execution_count": null,
   "metadata": {},
   "outputs": [],
   "source": [
    "df = df.groupby('id').agg(list).reset_index()"
   ]
  },
  {
   "cell_type": "code",
   "execution_count": null,
   "metadata": {},
   "outputs": [],
   "source": [
    "for col in df.columns[2:]:\n",
    "    df[col] = df[col].apply(lambda x: np.unique(x)[0] if len(np.unique(x)) == 1 else np.unique(x))"
   ]
  },
  {
   "cell_type": "code",
   "execution_count": null,
   "metadata": {},
   "outputs": [],
   "source": [
    "df.head()"
   ]
  },
  {
   "cell_type": "code",
   "execution_count": null,
   "metadata": {},
   "outputs": [],
   "source": [
    "sns.countplot(x=df['cell_type'])\n",
    "plt.show()"
   ]
  },
  {
   "cell_type": "code",
   "execution_count": null,
   "metadata": {
    "scrolled": true
   },
   "outputs": [],
   "source": [
    "for idx in range(25):\n",
    "#     idx = np.random.choice(len(df))\n",
    "#     idx = 1\n",
    "\n",
    "    img = cv2.imread(TRAIN_IMG_PATH + df['id'][idx] + \".png\")\n",
    "\n",
    "    rles = df['annotation'][idx]\n",
    "    \n",
    "    if df['cell_type'][idx] != \"astro\":\n",
    "        continue\n",
    "    \n",
    "    mask = rles_to_mask_fix(rles, img.shape[:2], single_channel=False, fix=True)\n",
    "    \n",
    "    mask_fix = cv2.imread(HCK_FIX_PATH + df['id'][idx] + \".png\")\n",
    "    if mask_fix is not None:\n",
    "        mask = mask * (mask_fix[:, :, 2] > 0)[None]\n",
    "    \n",
    "    plt.figure(figsize=(15, 10))\n",
    "    plot_sample(img, mask, width=1)\n",
    "    plt.axis(False)\n",
    "    plt.title(f\"{df['id'][idx]} - {df['cell_type'][idx]}\")\n",
    "    plt.show()\n",
    "    \n",
    "#     break"
   ]
  },
  {
   "cell_type": "markdown",
   "metadata": {},
   "source": [
    "## Generation"
   ]
  },
  {
   "cell_type": "markdown",
   "metadata": {},
   "source": [
    "### Test"
   ]
  },
  {
   "cell_type": "code",
   "execution_count": null,
   "metadata": {},
   "outputs": [],
   "source": [
    "metas = []\n",
    "\n",
    "for idx in tqdm(range(len(df))):\n",
    "    img = cv2.imread(TRAIN_IMG_PATH + df['id'][idx] + \".png\")\n",
    "    masks, meta = prepare_mmdet_data(df, idx)\n",
    "    \n",
    "    metas.append(meta)\n",
    "    \n",
    "    if idx > 0:\n",
    "        break"
   ]
  },
  {
   "cell_type": "code",
   "execution_count": null,
   "metadata": {
    "scrolled": false
   },
   "outputs": [],
   "source": [
    "plt.figure(figsize=(15, 10))\n",
    "plot_sample(img, masks.max(0), meta['ann']['bboxes'], width=1)\n",
    "plt.axis(False)\n",
    "plt.title(f\"{df['id'][idx]} - {df['cell_type'][idx]}\")\n",
    "plt.show()"
   ]
  },
  {
   "cell_type": "markdown",
   "metadata": {},
   "source": [
    "### Run"
   ]
  },
  {
   "cell_type": "code",
   "execution_count": null,
   "metadata": {
    "scrolled": false
   },
   "outputs": [],
   "source": [
    "from multiprocessing import Pool\n",
    "\n",
    "FIX = True\n",
    "p = Pool(processes=4)\n",
    "\n",
    "df = pd.read_csv(DATA_PATH + \"train.csv\")\n",
    "df = df.groupby('id').agg(list).reset_index()\n",
    "for col in df.columns[2:]:\n",
    "    df[col] = df[col].apply(lambda x: np.unique(x)[0] if len(np.unique(x)) == 1 else np.unique(x))\n",
    "\n",
    "def prepare_mmdet_data_(i):\n",
    "    return prepare_mmdet_data(df, idx=i, fix=FIX)\n",
    "\n",
    "metas = []\n",
    "for _, meta in tqdm(p.imap(prepare_mmdet_data_, range(len(df))), total=len(df)):\n",
    "    metas.append(meta)\n",
    "\n",
    "meta_df = pd.DataFrame.from_dict(metas)\n",
    "if len(meta_df) == len(df):\n",
    "    if FIX:\n",
    "        meta_df.to_csv(OUT_PATH + \"mmdet_data_fix.csv\", index=False)\n",
    "    else:\n",
    "        meta_df.to_csv(OUT_PATH + \"mmdet_data_nofix.csv\", index=False)"
   ]
  }
 ],
 "metadata": {
  "kernelspec": {
   "display_name": "venv",
   "language": "python",
   "name": "venv"
  },
  "language_info": {
   "codemirror_mode": {
    "name": "ipython",
    "version": 3
   },
   "file_extension": ".py",
   "mimetype": "text/x-python",
   "name": "python",
   "nbconvert_exporter": "python",
   "pygments_lexer": "ipython3",
   "version": "3.8.5"
  }
 },
 "nbformat": 4,
 "nbformat_minor": 4
}
