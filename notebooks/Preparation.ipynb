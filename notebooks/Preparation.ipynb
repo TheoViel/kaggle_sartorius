{
 "cells": [
  {
   "cell_type": "markdown",
   "metadata": {},
   "source": [
    "**About** : This notebook is used to prepare the data\n"
   ]
  },
  {
   "cell_type": "code",
   "execution_count": null,
   "metadata": {},
   "outputs": [],
   "source": [
    "# %load_ext nb_black\n",
    "%load_ext autoreload\n",
    "%autoreload 2"
   ]
  },
  {
   "cell_type": "markdown",
   "metadata": {},
   "source": [
    "## Initialization"
   ]
  },
  {
   "cell_type": "markdown",
   "metadata": {},
   "source": [
    "### Imports"
   ]
  },
  {
   "cell_type": "code",
   "execution_count": null,
   "metadata": {},
   "outputs": [],
   "source": [
    "import os\n",
    "import sys\n",
    "import cv2\n",
    "import torch\n",
    "import warnings\n",
    "import pycocotools\n",
    "import numpy as np\n",
    "import pandas as pd\n",
    "import seaborn as sns\n",
    "import matplotlib.pyplot as plt\n",
    "\n",
    "from collections import Counter\n",
    "from tqdm.notebook import tqdm\n",
    "\n",
    "sys.path.append(\"../src/\")"
   ]
  },
  {
   "cell_type": "code",
   "execution_count": null,
   "metadata": {},
   "outputs": [],
   "source": [
    "from params import *\n",
    "from utils.rle import *\n",
    "from utils.plots import *\n",
    "# from data.masks import *"
   ]
  },
  {
   "cell_type": "markdown",
   "metadata": {},
   "source": [
    "## Data"
   ]
  },
  {
   "cell_type": "code",
   "execution_count": null,
   "metadata": {},
   "outputs": [],
   "source": [
    "df = pd.read_csv(DATA_PATH + \"train.csv\")"
   ]
  },
  {
   "cell_type": "code",
   "execution_count": null,
   "metadata": {},
   "outputs": [],
   "source": [
    "df = df.groupby('id').agg(list).reset_index()"
   ]
  },
  {
   "cell_type": "code",
   "execution_count": null,
   "metadata": {},
   "outputs": [],
   "source": [
    "for col in df.columns[2:]:\n",
    "    df[col] = df[col].apply(lambda x: np.unique(x)[0] if len(np.unique(x)) == 1 else np.unique(x))"
   ]
  },
  {
   "cell_type": "code",
   "execution_count": null,
   "metadata": {},
   "outputs": [],
   "source": [
    "df.head()"
   ]
  },
  {
   "cell_type": "code",
   "execution_count": null,
   "metadata": {},
   "outputs": [],
   "source": [
    "sns.countplot(x=df['cell_type'])\n",
    "plt.show()"
   ]
  },
  {
   "cell_type": "code",
   "execution_count": null,
   "metadata": {},
   "outputs": [],
   "source": [
    "def rle_decode(mask_rle, shape):\n",
    "    '''\n",
    "    mask_rle: run-length as string formated (start length)\n",
    "    shape: (height,width) of array to return \n",
    "    Returns numpy array, 1 - mask, 0 - background\n",
    "\n",
    "    '''\n",
    "    s = mask_rle.split()\n",
    "    starts, lengths = [np.asarray(x, dtype=int) for x in (s[0:][::2], s[1:][::2])]\n",
    "    starts -= 1\n",
    "    ends = starts + lengths\n",
    "    img = np.zeros(shape[0]*shape[1], dtype=np.uint8)\n",
    "    for lo, hi in zip(starts, ends):\n",
    "        img[lo: hi] = 1\n",
    "    return img.reshape(shape)  # Needed to align to RLE direction\n",
    "\n",
    "\n",
    "def get_img_and_mask(img_path, annotation, width, height, mask_only=False):\n",
    "    \"\"\" Capture the relevant image array as well as the image mask \"\"\"\n",
    "    img_mask = np.zeros((len(annotation), height, width), dtype=np.uint16)\n",
    "    \n",
    "    \n",
    "    for i, annot in enumerate(annotation): \n",
    "        img_mask[i] = rle_decode(annot, (height, width))\n",
    "    \n",
    "    return img_mask"
   ]
  },
  {
   "cell_type": "code",
   "execution_count": null,
   "metadata": {
    "scrolled": true
   },
   "outputs": [],
   "source": [
    "for idx in range(25):\n",
    "#     idx = np.random.choice(len(df))\n",
    "#     idx = 1\n",
    "\n",
    "    img = cv2.imread(TRAIN_IMG_PATH + df['id'][idx] + \".png\")\n",
    "\n",
    "    rles = df['annotation'][idx]\n",
    "    \n",
    "    if df['cell_type'][idx] != \"astro\":\n",
    "        continue\n",
    "    \n",
    "    mask = rles_to_mask_fix(rles, img.shape[:2], single_channel=False, fix=True)\n",
    "    \n",
    "    mask_fix = cv2.imread(HCK_FIX_PATH + df['id'][idx] + \".png\")\n",
    "    if mask_fix is not None:\n",
    "        mask = mask * (mask_fix[:, :, 2] > 0)[None]\n",
    "    \n",
    "    plt.figure(figsize=(15, 10))\n",
    "    plot_sample(img, mask, width=1)\n",
    "    plt.axis(False)\n",
    "    plt.title(f\"{df['id'][idx]} - {df['cell_type'][idx]}\")\n",
    "    plt.show()\n",
    "    \n",
    "#     break"
   ]
  },
  {
   "cell_type": "markdown",
   "metadata": {},
   "source": [
    "## Generation"
   ]
  },
  {
   "cell_type": "markdown",
   "metadata": {},
   "source": [
    "### Function"
   ]
  },
  {
   "cell_type": "code",
   "execution_count": null,
   "metadata": {},
   "outputs": [],
   "source": [
    "def prepare_mmdet_data(df, idx, fix=True):\n",
    "    height, width = df[[\"height\", \"width\"]].values[idx]\n",
    "    cell_type = df['cell_type'][idx]\n",
    "    \n",
    "    rles = df['annotation'][idx]\n",
    "\n",
    "    masks = rles_to_mask_fix(rles, (height, width), single_channel=False, fix=fix)\n",
    "    \n",
    "    if fix:\n",
    "        mask_fix = cv2.imread(HCK_FIX_PATH + df['id'][idx] + \".png\")\n",
    "        if mask_fix is not None:\n",
    "            masks = masks * (mask_fix[:, :, 2] > 0)[None]\n",
    "\n",
    "    rles = [pycocotools.mask.encode(np.asfortranarray(m > 0)) for m in masks]\n",
    "\n",
    "    bboxes = np.array([pycocotools.mask.toBbox(rle) for rle in rles])\n",
    "    bboxes[:, 2] += bboxes[:, 0]\n",
    "    bboxes[:, 3] += bboxes[:, 1]\n",
    "    \n",
    "    meta = {\n",
    "        'filename': df['id'][idx] + \".png\",\n",
    "        'width': int(width),\n",
    "        'height': int(height),\n",
    "        'cell_type': cell_type,\n",
    "        'ann': {\n",
    "            'bboxes': bboxes.astype(int).tolist(),\n",
    "            'labels': [CELL_TYPES.index(cell_type)] * len(bboxes),\n",
    "            'masks': rles\n",
    "        }\n",
    "    }\n",
    "    \n",
    "    return masks, meta"
   ]
  },
  {
   "cell_type": "markdown",
   "metadata": {},
   "source": [
    "### Test"
   ]
  },
  {
   "cell_type": "code",
   "execution_count": null,
   "metadata": {},
   "outputs": [],
   "source": [
    "metas = []\n",
    "\n",
    "for idx in tqdm(range(len(df))):\n",
    "    img = cv2.imread(TRAIN_IMG_PATH + df['id'][idx] + \".png\")\n",
    "    masks, meta = prepare_mmdet_data(df, idx)\n",
    "    \n",
    "    metas.append(meta)\n",
    "    \n",
    "    if idx > 0:\n",
    "        break"
   ]
  },
  {
   "cell_type": "code",
   "execution_count": null,
   "metadata": {
    "scrolled": false
   },
   "outputs": [],
   "source": [
    "plt.figure(figsize=(15, 10))\n",
    "plot_sample(img, masks.max(0), meta['ann']['bboxes'], width=1)\n",
    "plt.axis(False)\n",
    "plt.title(f\"{df['id'][idx]} - {df['cell_type'][idx]}\")\n",
    "plt.show()"
   ]
  },
  {
   "cell_type": "markdown",
   "metadata": {},
   "source": [
    "### Run"
   ]
  },
  {
   "cell_type": "code",
   "execution_count": null,
   "metadata": {
    "scrolled": false
   },
   "outputs": [],
   "source": [
    "from multiprocessing import Pool\n",
    "\n",
    "FIX = True\n",
    "p = Pool(processes=4)\n",
    "\n",
    "df = pd.read_csv(DATA_PATH + \"train.csv\")\n",
    "df = df.groupby('id').agg(list).reset_index()\n",
    "for col in df.columns[2:]:\n",
    "    df[col] = df[col].apply(lambda x: np.unique(x)[0] if len(np.unique(x)) == 1 else np.unique(x))\n",
    "\n",
    "def prepare_mmdet_data_(i):\n",
    "    return prepare_mmdet_data(df, idx=i, fix=FIX)\n",
    "\n",
    "metas = []\n",
    "for _, meta in tqdm(p.imap(prepare_mmdet_data_, range(len(df))), total=len(df)):\n",
    "    metas.append(meta)\n",
    "\n",
    "meta_df = pd.DataFrame.from_dict(metas)\n",
    "if len(meta_df) == len(df):\n",
    "    if FIX:\n",
    "        meta_df.to_csv(OUT_PATH + \"mmdet_data_fix.csv\", index=False)\n",
    "    else:\n",
    "        meta_df.to_csv(OUT_PATH + \"mmdet_data_nofix.csv\", index=False)"
   ]
  },
  {
   "cell_type": "markdown",
   "metadata": {},
   "source": [
    "## Verif"
   ]
  },
  {
   "cell_type": "code",
   "execution_count": null,
   "metadata": {},
   "outputs": [],
   "source": [
    "df = pd.read_csv(OUT_PATH + \"mmdet_data_nofix.csv\")"
   ]
  },
  {
   "cell_type": "code",
   "execution_count": null,
   "metadata": {},
   "outputs": [],
   "source": [
    "df_fix = pd.read_csv(OUT_PATH + \"mmdet_data.csv\")"
   ]
  },
  {
   "cell_type": "code",
   "execution_count": null,
   "metadata": {},
   "outputs": [],
   "source": [
    "df.head()"
   ]
  },
  {
   "cell_type": "code",
   "execution_count": null,
   "metadata": {},
   "outputs": [],
   "source": [
    "ok = {'shsy5y': 0, 'astro': 0, 'cort': 0}\n",
    "nok = {'shsy5y': 0, 'astro': 0, 'cort': 0}\n",
    "\n",
    "for i, (ann_fix, ann) in enumerate(zip(df_fix['ann'].values, df['ann'].values)):\n",
    "    if ann_fix == ann:\n",
    "        ok[df['cell_type'][i]] += 1\n",
    "    else:\n",
    "        nok[df['cell_type'][i]] += 1"
   ]
  },
  {
   "cell_type": "code",
   "execution_count": null,
   "metadata": {},
   "outputs": [],
   "source": [
    "ok"
   ]
  },
  {
   "cell_type": "code",
   "execution_count": null,
   "metadata": {},
   "outputs": [],
   "source": [
    "nok"
   ]
  }
 ],
 "metadata": {
  "kernelspec": {
   "display_name": "venv",
   "language": "python",
   "name": "venv"
  },
  "language_info": {
   "codemirror_mode": {
    "name": "ipython",
    "version": 3
   },
   "file_extension": ".py",
   "mimetype": "text/x-python",
   "name": "python",
   "nbconvert_exporter": "python",
   "pygments_lexer": "ipython3",
   "version": "3.8.5"
  }
 },
 "nbformat": 4,
 "nbformat_minor": 4
}
