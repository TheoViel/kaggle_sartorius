{
 "cells": [
  {
   "cell_type": "markdown",
   "metadata": {},
   "source": [
    "**About** : This notebook is used to train models.\n"
   ]
  },
  {
   "cell_type": "code",
   "execution_count": null,
   "metadata": {},
   "outputs": [],
   "source": [
    "# %load_ext nb_black\n",
    "%load_ext autoreload\n",
    "%autoreload 2"
   ]
  },
  {
   "cell_type": "code",
   "execution_count": null,
   "metadata": {},
   "outputs": [],
   "source": [
    "cd ../src/"
   ]
  },
  {
   "cell_type": "markdown",
   "metadata": {},
   "source": [
    "## Initialization"
   ]
  },
  {
   "cell_type": "markdown",
   "metadata": {},
   "source": [
    "### Imports"
   ]
  },
  {
   "cell_type": "code",
   "execution_count": null,
   "metadata": {},
   "outputs": [],
   "source": [
    "import os\n",
    "import torch\n",
    "import warnings\n",
    "import numpy as np\n",
    "import pandas as pd\n",
    "import seaborn as sns\n",
    "import matplotlib.pyplot as plt\n",
    "\n",
    "from tqdm.notebook import tqdm\n",
    "warnings.simplefilter(\"ignore\", UserWarning)"
   ]
  },
  {
   "cell_type": "code",
   "execution_count": null,
   "metadata": {},
   "outputs": [],
   "source": [
    "from params import *\n",
    "\n",
    "from utils.plots import *\n",
    "from utils.logger import prepare_log_folder, create_logger, save_config\n",
    "\n",
    "from data.preparation import prepare_data\n",
    "from data.dataset import SartoriusDataset\n",
    "from data.transforms import define_pipelines\n",
    "\n",
    "from training.main import k_fold\n",
    "from main_training import BATCH_SIZES"
   ]
  },
  {
   "cell_type": "markdown",
   "metadata": {},
   "source": [
    "## Data"
   ]
  },
  {
   "cell_type": "code",
   "execution_count": null,
   "metadata": {},
   "outputs": [],
   "source": [
    "df = prepare_data()\n",
    "pipelines = define_pipelines(\"configs/config_aug.py\")"
   ]
  },
  {
   "cell_type": "code",
   "execution_count": null,
   "metadata": {
    "scrolled": false
   },
   "outputs": [],
   "source": [
    "dataset = SartoriusDataset(df, pipelines['val_viz'], precompute_masks=False)\n",
    "\n",
    "for _ in range(1):\n",
    "    idx = np.random.choice(len(dataset))\n",
    "    data = dataset[idx]\n",
    "    \n",
    "    img = data['img']\n",
    "    boxes = data['gt_bboxes']\n",
    "\n",
    "    plt.figure(figsize=(15, 15))\n",
    "    plot_sample(img, data['gt_masks'], boxes, plotly=False)\n",
    "    plt.title(df[\"sample_id\"][idx])\n",
    "    plt.axis(False)\n",
    "    plt.show()\n"
   ]
  },
  {
   "cell_type": "code",
   "execution_count": null,
   "metadata": {
    "scrolled": false
   },
   "outputs": [],
   "source": [
    "dataset = SartoriusDataset(df, pipelines['train_viz'], precompute_masks=False)\n",
    "\n",
    "for _ in range(1):\n",
    "    plt.figure(figsize=(15, 15))\n",
    "    for i in range(4):\n",
    "        plt.subplot(2, 2, i + 1)\n",
    "        idx = np.random.choice(len(dataset))\n",
    "        data = dataset[idx]\n",
    "        plot_sample(data['img'], data['gt_masks'], plotly=False)\n",
    "        plt.axis(False)\n",
    "\n",
    "    plt.show()"
   ]
  },
  {
   "cell_type": "markdown",
   "metadata": {},
   "source": [
    "## Training"
   ]
  },
  {
   "cell_type": "code",
   "execution_count": null,
   "metadata": {},
   "outputs": [],
   "source": [
    "class Config:\n",
    "    \"\"\"\n",
    "    Parameters used for training\n",
    "    \"\"\"\n",
    "\n",
    "    # General\n",
    "    seed = 42\n",
    "    verbose = 1\n",
    "    first_epoch_eval = 5\n",
    "    compute_val_loss = False\n",
    "    verbose_eval = 5\n",
    "\n",
    "    device = \"cuda\" if torch.cuda.is_available() else \"cpu\"\n",
    "    save_weights = True\n",
    "\n",
    "    # Images\n",
    "    fix = True\n",
    "    remove_anomalies = True\n",
    "\n",
    "    extra_name = \"livecell_no_shsy5y\"\n",
    "    use_extra_samples = False\n",
    "    use_pl = True\n",
    "\n",
    "    num_classes = 3\n",
    "\n",
    "    data_config = \"configs/config_aug.py\"\n",
    "\n",
    "    # k-fold\n",
    "    split = \"gkf\"\n",
    "    k = 5\n",
    "    random_state = 0\n",
    "    selected_folds = [0]\n",
    "\n",
    "    # Model\n",
    "    name = \"cascade\"  # \"cascade\" \"maskrcnn\"\n",
    "    encoder = \"resnext101\"\n",
    "    model_config = f\"configs/config_{name}.py\"\n",
    "    pretrained_livecell = True\n",
    "    freeze_bn = True\n",
    "\n",
    "    if name == \"htc\":\n",
    "        data_config = \"configs/config_aug_semantic.py\"\n",
    "\n",
    "    # Training\n",
    "    optimizer = \"AdamW\"\n",
    "    scheduler = \"linear\"\n",
    "    weight_decay = 0.01 if optimizer == \"AdamW\" else 0\n",
    "    batch_size = BATCH_SIZES[name][encoder]\n",
    "    val_bs = batch_size\n",
    "    loss_decay = True\n",
    "\n",
    "    epochs = 10 * batch_size\n",
    "    \n",
    "    if use_pl or use_extra_samples:\n",
    "        epochs = epochs // 2\n",
    "\n",
    "    lr = 2e-4\n",
    "    warmup_prop = 0.05\n",
    "\n",
    "    use_fp16 = False  # TODO"
   ]
  },
  {
   "cell_type": "code",
   "execution_count": null,
   "metadata": {},
   "outputs": [],
   "source": [
    "DEBUG = True\n",
    "log_folder = None"
   ]
  },
  {
   "cell_type": "code",
   "execution_count": null,
   "metadata": {
    "scrolled": false
   },
   "outputs": [],
   "source": [
    "if not DEBUG:\n",
    "    log_folder = prepare_log_folder(LOG_PATH)\n",
    "    print(f\"Logging results to {log_folder}\")\n",
    "    save_config(Config, log_folder)\n",
    "    create_logger(directory=log_folder, name=\"logs.txt\")\n",
    "\n",
    "results = k_fold(Config, log_folder=log_folder)"
   ]
  }
 ],
 "metadata": {
  "kernelspec": {
   "display_name": "venv",
   "language": "python",
   "name": "venv"
  },
  "language_info": {
   "codemirror_mode": {
    "name": "ipython",
    "version": 3
   },
   "file_extension": ".py",
   "mimetype": "text/x-python",
   "name": "python",
   "nbconvert_exporter": "python",
   "pygments_lexer": "ipython3",
   "version": "3.8.5"
  }
 },
 "nbformat": 4,
 "nbformat_minor": 4
}
