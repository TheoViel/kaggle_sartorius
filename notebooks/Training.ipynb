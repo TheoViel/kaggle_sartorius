{
 "cells": [
  {
   "cell_type": "markdown",
   "metadata": {},
   "source": [
    "**About** : This notebook is used to train models.\n",
    "\n",
    "Ideas :\n",
    "- https://www.kaggle.com/c/open-images-2019-instance-segmentation/discussion/110983\n",
    "\n",
    "- https://www.kaggle.com/c/imaterialist-fashion-2019-FGVC6/discussion/95247#latest-567841\n",
    "- https://www.kaggle.com/c/imaterialist-fashion-2019-FGVC6/discussion/95233#latest-551075\n",
    "- https://www.kaggle.com/c/imaterialist-fashion-2019-FGVC6/discussion/95234#latest-555537\n",
    "\n",
    "- https://www.kaggle.com/c/airbus-ship-detection/discussion/71595#latest-457550\n",
    "- https://www.kaggle.com/c/airbus-ship-detection/discussion/71667#latest-558876\n",
    "- https://www.kaggle.com/c/data-science-bowl-2018/discussion/56326"
   ]
  },
  {
   "cell_type": "code",
   "execution_count": null,
   "metadata": {},
   "outputs": [],
   "source": [
    "# %load_ext nb_black\n",
    "%load_ext autoreload\n",
    "%autoreload 2"
   ]
  },
  {
   "cell_type": "code",
   "execution_count": null,
   "metadata": {},
   "outputs": [],
   "source": [
    "cd ../src/"
   ]
  },
  {
   "cell_type": "markdown",
   "metadata": {},
   "source": [
    "## Initialization"
   ]
  },
  {
   "cell_type": "markdown",
   "metadata": {},
   "source": [
    "### Imports"
   ]
  },
  {
   "cell_type": "code",
   "execution_count": null,
   "metadata": {},
   "outputs": [],
   "source": [
    "import os\n",
    "import gc\n",
    "import ast\n",
    "import sys\n",
    "import cv2\n",
    "import torch\n",
    "import warnings\n",
    "import numpy as np\n",
    "import pandas as pd\n",
    "import seaborn as sns\n",
    "import plotly.express as px\n",
    "import matplotlib.pyplot as plt\n",
    "\n",
    "from tqdm.notebook import tqdm\n",
    "from sklearn.model_selection import StratifiedKFold\n",
    "warnings.simplefilter(\"ignore\", UserWarning)"
   ]
  },
  {
   "cell_type": "code",
   "execution_count": null,
   "metadata": {},
   "outputs": [],
   "source": [
    "from params import *\n",
    "\n",
    "from utils.plots import *\n",
    "from utils.metrics import iou_map\n",
    "from utils.rle import rles_to_mask_fix\n",
    "from utils.logger import prepare_log_folder, create_logger, save_config\n",
    "\n",
    "from data.preparation import prepare_data, prepare_extra_data\n",
    "from data.dataset import SartoriusDataset\n",
    "from data.transforms import define_pipelines, to_mosaic\n",
    "\n",
    "from training.main import k_fold\n",
    "from inference.post_process import *"
   ]
  },
  {
   "cell_type": "code",
   "execution_count": null,
   "metadata": {},
   "outputs": [],
   "source": [
    "import mmdet\n",
    "import mmdet.models\n",
    "from mmcv import Config\n",
    "\n",
    "from mmcv.utils import build_from_cfg\n",
    "from mmdet.datasets.builder import PIPELINES\n",
    "from mmdet.datasets.pipelines import Compose"
   ]
  },
  {
   "cell_type": "markdown",
   "metadata": {},
   "source": [
    "## Data"
   ]
  },
  {
   "cell_type": "code",
   "execution_count": null,
   "metadata": {},
   "outputs": [],
   "source": [
    "class Config:\n",
    "    \"\"\"\n",
    "    Parameters used for training\n",
    "    \"\"\"\n",
    "    # Images\n",
    "    use_mosaic = False\n",
    "    use_tta = False  # TODO\n",
    "    data_config = \"data/config_mosaic.py\" if use_mosaic else \"data/config.py\"\n",
    "#     data_config = \"data/config_rescale.py\""
   ]
  },
  {
   "cell_type": "code",
   "execution_count": null,
   "metadata": {},
   "outputs": [],
   "source": [
    "df = prepare_data()\n",
    "df_extra = prepare_extra_data(\"livecell_shsy5y\")"
   ]
  },
  {
   "cell_type": "code",
   "execution_count": null,
   "metadata": {
    "scrolled": true
   },
   "outputs": [],
   "source": [
    "pipelines = define_pipelines(Config.data_config)"
   ]
  },
  {
   "cell_type": "code",
   "execution_count": null,
   "metadata": {},
   "outputs": [],
   "source": [
    "# dataset = SartoriusDataset(df, pipelines['test_viz'], precompute_masks=False)\n",
    "dataset = SartoriusDataset(\n",
    "    df.head(1), pipelines['val_viz'], precompute_masks=False, df_extra=df_extra\n",
    ")\n",
    "# dataset = SartoriusDataset(df, pipelines['train_viz'], precompute_masks=False)"
   ]
  },
  {
   "cell_type": "code",
   "execution_count": null,
   "metadata": {
    "scrolled": false
   },
   "outputs": [],
   "source": [
    "for idx in range(len(dataset)):\n",
    "    idx = np.random.choice(len(dataset))\n",
    "    data = dataset[idx]\n",
    "    \n",
    "    img = data['img']\n",
    "    boxes = data['gt_bboxes']\n",
    "\n",
    "    plt.figure(figsize=(15, 15))\n",
    "    plot_sample(img, data['gt_masks'], boxes, plotly=False)\n",
    "    plt.axis(False)\n",
    "#     plt.title(df['cell_type'][idx])\n",
    "    plt.show()\n",
    "    \n",
    "    break"
   ]
  },
  {
   "cell_type": "code",
   "execution_count": null,
   "metadata": {
    "scrolled": true
   },
   "outputs": [],
   "source": [
    "# sizes_, ratios_, ns = [], [], []\n",
    "# for i in tqdm(range(len(dataset))):\n",
    "#     data = dataset[i]\n",
    "# #     img = data['img']\n",
    "#     boxes = data['gt_bboxes'].astype(float)\n",
    "\n",
    "#     sizes = np.max([boxes[:, 2] - boxes[:, 0], boxes[:, 3] - boxes[:, 1]], 0)\n",
    "#     ratios = (boxes[:, 2] - boxes[:, 0]) / (boxes[:, 3] - boxes[:, 1])\n",
    "#     ratios = np.max([ratios, 1 / ratios], 0)\n",
    "#     ns.append(len(boxes))\n",
    "\n",
    "# #     if np.max(ratios) > 10:\n",
    "#     if len(boxes) > 600:\n",
    "# #     if np.max(sizes) > 256:\n",
    "#         plt.figure(figsize=(15, 15))\n",
    "#         plot_sample(data['img'], data['gt_masks'], boxes, plotly=False)\n",
    "#         plt.axis(False)\n",
    "#         plt.show()\n",
    "        \n",
    "    \n",
    "#     sizes_.append(sizes)\n",
    "#     ratios_.append(ratios)"
   ]
  },
  {
   "cell_type": "code",
   "execution_count": null,
   "metadata": {},
   "outputs": [],
   "source": [
    "dataset = SartoriusDataset(df, pipelines['train_viz'], precompute_masks=False)\n",
    "# dataset = to_mosaic(Config, dataset, 'mosaic_viz')"
   ]
  },
  {
   "cell_type": "code",
   "execution_count": null,
   "metadata": {
    "scrolled": false
   },
   "outputs": [],
   "source": [
    "for _ in range(1):\n",
    "    plt.figure(figsize=(15, 15))\n",
    "    \n",
    "    for i in range(4):\n",
    "        plt.subplot(2, 2, i + 1)\n",
    "        idx = np.random.choice(len(dataset))\n",
    "#         idx = 581\n",
    "\n",
    "        data = dataset[idx]\n",
    "        print(data['img'].shape)\n",
    "        plot_sample(data['img'], data['gt_masks'], data['gt_bboxes'], plotly=False)\n",
    "#         print(data['img'].shape)\n",
    "\n",
    "        plt.axis(False)\n",
    "    plt.show()"
   ]
  },
  {
   "cell_type": "markdown",
   "metadata": {},
   "source": [
    "## Training"
   ]
  },
  {
   "cell_type": "code",
   "execution_count": null,
   "metadata": {},
   "outputs": [],
   "source": [
    "class Config:\n",
    "    \"\"\"\n",
    "    Parameters used for training\n",
    "    \"\"\"\n",
    "    # General\n",
    "    seed = 42\n",
    "    verbose = 1\n",
    "    first_epoch_eval = 1\n",
    "    compute_val_loss = False\n",
    "    verbose_eval = 5\n",
    "\n",
    "    device = \"cuda\" if torch.cuda.is_available() else \"cpu\"\n",
    "    save_weights = True\n",
    "\n",
    "    # Images\n",
    "    fix = True\n",
    "    extra_name = \"livecell_no_shsy5y\"\n",
    "    use_extra_samples = False\n",
    "    num_classes = 3\n",
    "    pretrained_livecell = True\n",
    "\n",
    "    use_mosaic = False\n",
    "    data_config = \"data/config_mosaic.py\" if use_mosaic else \"data/config.py\"\n",
    "\n",
    "    # k-fold\n",
    "    k = 5\n",
    "    random_state = 0\n",
    "    selected_folds = [0] #, 1, 2, 3, 4]\n",
    "\n",
    "    # Model\n",
    "    name = \"maskrcnn\"  # \"cascade\" \"maskrcnn\"\n",
    "    encoder = \"resnext101\"\n",
    "    model_config = f\"model_zoo/config_{name}.py\"\n",
    "    pretrained_livecell = True\n",
    "\n",
    "    # Training\n",
    "    optimizer = \"Adam\"\n",
    "    scheduler = \"linear\"  # \"plateau\" \"linear\"\n",
    "    weight_decay = 0.0005 if optimizer == \"SGD\" else 0\n",
    "    batch_size = 4\n",
    "    val_bs = batch_size\n",
    "\n",
    "    epochs = 40\n",
    "\n",
    "    lr = 3e-4\n",
    "    warmup_prop = 0.05\n",
    "\n",
    "    use_fp16 = False  # TODO"
   ]
  },
  {
   "cell_type": "code",
   "execution_count": null,
   "metadata": {},
   "outputs": [],
   "source": [
    "DEBUG = True\n",
    "log_folder = None"
   ]
  },
  {
   "cell_type": "code",
   "execution_count": null,
   "metadata": {
    "scrolled": false
   },
   "outputs": [],
   "source": [
    "if not DEBUG:\n",
    "    log_folder = prepare_log_folder(LOG_PATH)\n",
    "    print(f\"Logging results to {log_folder}\")\n",
    "    save_config(Config, log_folder)\n",
    "    create_logger(directory=log_folder, name=\"logs.txt\")\n",
    "\n",
    "results = k_fold(Config, log_folder=log_folder)"
   ]
  }
 ],
 "metadata": {
  "kernelspec": {
   "display_name": "venv",
   "language": "python",
   "name": "venv"
  },
  "language_info": {
   "codemirror_mode": {
    "name": "ipython",
    "version": 3
   },
   "file_extension": ".py",
   "mimetype": "text/x-python",
   "name": "python",
   "nbconvert_exporter": "python",
   "pygments_lexer": "ipython3",
   "version": "3.8.5"
  }
 },
 "nbformat": 4,
 "nbformat_minor": 4
}
