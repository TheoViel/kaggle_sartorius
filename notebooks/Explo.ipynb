{
 "cells": [
  {
   "cell_type": "markdown",
   "metadata": {},
   "source": [
    "**About** : Exploration"
   ]
  },
  {
   "cell_type": "code",
   "execution_count": null,
   "metadata": {},
   "outputs": [],
   "source": [
    "# %load_ext nb_black\n",
    "%load_ext autoreload\n",
    "%autoreload 2"
   ]
  },
  {
   "cell_type": "code",
   "execution_count": null,
   "metadata": {},
   "outputs": [],
   "source": [
    "cd ../src/"
   ]
  },
  {
   "cell_type": "markdown",
   "metadata": {},
   "source": [
    "## Initialization"
   ]
  },
  {
   "cell_type": "markdown",
   "metadata": {},
   "source": [
    "### Imports"
   ]
  },
  {
   "cell_type": "code",
   "execution_count": null,
   "metadata": {},
   "outputs": [],
   "source": [
    "import os\n",
    "import gc\n",
    "import ast\n",
    "import sys\n",
    "import cv2\n",
    "import torch\n",
    "import warnings\n",
    "import numpy as np\n",
    "import pandas as pd\n",
    "import seaborn as sns\n",
    "import plotly.express as px\n",
    "import matplotlib.pyplot as plt\n",
    "\n",
    "from tqdm.notebook import tqdm\n",
    "from collections import Counter\n",
    "from sklearn.model_selection import StratifiedKFold\n",
    "warnings.simplefilter(\"ignore\", UserWarning)\n",
    "pd.options.display.max_rows = 999"
   ]
  },
  {
   "cell_type": "code",
   "execution_count": null,
   "metadata": {},
   "outputs": [],
   "source": [
    "from params import *\n",
    "from utils.rle import *\n",
    "from utils.plots import *\n",
    "from utils.metrics import iou_map\n",
    "from utils.rle import rles_to_mask_fix\n",
    "from utils.logger import prepare_log_folder, create_logger, save_config\n",
    "\n",
    "from data.preparation import *\n",
    "from data.dataset import SartoriusDataset\n",
    "from data.transforms import define_pipelines\n",
    "\n",
    "from training.main import k_fold\n",
    "from inference.post_process import *\n",
    "from utils.metrics import *\n",
    "from utils.torch import *"
   ]
  },
  {
   "cell_type": "code",
   "execution_count": null,
   "metadata": {},
   "outputs": [],
   "source": [
    "import mmdet\n",
    "import mmdet.models\n",
    "from mmcv import Config\n",
    "\n",
    "from mmcv.utils import build_from_cfg\n",
    "from mmdet.datasets.builder import PIPELINES\n",
    "from mmdet.datasets.pipelines import Compose"
   ]
  },
  {
   "cell_type": "markdown",
   "metadata": {},
   "source": [
    "## Data"
   ]
  },
  {
   "cell_type": "code",
   "execution_count": null,
   "metadata": {},
   "outputs": [],
   "source": [
    "class Config:\n",
    "    \"\"\"\n",
    "    Parameters used for training\n",
    "    \"\"\"\n",
    "    # Images\n",
    "    use_mosaic = False\n",
    "    use_tta = False  # TODO\n",
    "    data_config = \"configs/config_aug_mosaic.py\" if use_mosaic else \"configs/config_aug.py\"\n",
    "#     data_config = \"data/config_rescale.py\"\n",
    "\n",
    "    k = 5\n",
    "    random_state = 0\n",
    "    split = \"gkf\""
   ]
  },
  {
   "cell_type": "code",
   "execution_count": null,
   "metadata": {},
   "outputs": [],
   "source": [
    "df = prepare_data(remove_anomalies=True, fix=True)\n",
    "# df = prepare_extra_data()"
   ]
  },
  {
   "cell_type": "code",
   "execution_count": null,
   "metadata": {
    "scrolled": true
   },
   "outputs": [],
   "source": [
    "pipelines = define_pipelines(Config.data_config)"
   ]
  },
  {
   "cell_type": "code",
   "execution_count": null,
   "metadata": {},
   "outputs": [],
   "source": [
    "splits = get_splits(df, Config)\n",
    "fold = np.zeros(len(df))\n",
    "for i, (train_idx, val_idx) in enumerate(splits):\n",
    "    fold[val_idx] = i\n",
    "    \n",
    "df['fold'] = fold"
   ]
  },
  {
   "cell_type": "code",
   "execution_count": null,
   "metadata": {},
   "outputs": [],
   "source": [
    "from skimage import measure \n",
    "\n",
    "def compute_features(masks, boxes, name, cell_type, fold):\n",
    "    features = []\n",
    "    for i, (mask, box) in enumerate(zip(masks, boxes)):\n",
    "        all_props = measure.regionprops(mask)\n",
    "        \n",
    "        fts = {\n",
    "            \"name\": name,\n",
    "            \"fold\": fold,\n",
    "            \"cell_type\": cell_type,\n",
    "            \"id\": i,\n",
    "            \"x0\": box[0],\n",
    "            \"y0\": box[1],\n",
    "            \"x1\": box[2],\n",
    "            \"y1\": box[3],\n",
    "            \"w\": box[2] - box[0],\n",
    "            \"h\": box[3] - box[1],\n",
    "            \"solidity\": all_props[0].solidity,\n",
    "            \"major_axis_length\": all_props[0].major_axis_length,\n",
    "            \"minor_axis_length\": all_props[0].minor_axis_length,\n",
    "            \"axis_ratio\": all_props[0].minor_axis_length / (all_props[0].major_axis_length + 1e-6),\n",
    "            \"extent\": all_props[0].extent,\n",
    "            \"area\": all_props[0].area,\n",
    "        }\n",
    "        features.append(fts)\n",
    "    return features"
   ]
  },
  {
   "cell_type": "code",
   "execution_count": null,
   "metadata": {},
   "outputs": [],
   "source": [
    "all_features = []\n",
    "dataset = SartoriusDataset(df, pipelines['val_viz'], precompute_masks=False)\n",
    "\n",
    "for i in tqdm(range(len(dataset))):\n",
    "    data = dataset[i]\n",
    "\n",
    "    masks = np.array([rle_decode(enc, ORIG_SIZE) for enc in df['annotation'][i]])\n",
    "\n",
    "    img = data['img']\n",
    "    boxes = data['gt_bboxes']\n",
    "    \n",
    "    \n",
    "    features = compute_features(masks, boxes, df['id'][i], df['cell_type'][i], df['fold'][i])\n",
    "    all_features += features\n",
    "features = pd.DataFrame(all_features)"
   ]
  },
  {
   "cell_type": "code",
   "execution_count": null,
   "metadata": {
    "scrolled": false
   },
   "outputs": [],
   "source": [
    "for col in ['solidity', 'axis_ratio']:\n",
    "    plt.figure(figsize=(15, 15))\n",
    "    for i in range(3):\n",
    "        plt.subplot(3, 1, i + 1)\n",
    "        sns.histplot(x=features[features['cell_type'] == CELL_TYPES[i]][col])\n",
    "#         plt.yscale('log')\n",
    "        plt.title(f'{col} - {CELL_TYPES[i]}', size=15)\n",
    "        plt.xticks([0.1 * i for i in range(11)])\n",
    "    plt.show()"
   ]
  },
  {
   "cell_type": "code",
   "execution_count": null,
   "metadata": {
    "scrolled": false
   },
   "outputs": [],
   "source": [
    "for col in features.columns[8:]:\n",
    "    plt.figure(figsize=(15, 5))\n",
    "    sns.histplot(x=features[col], hue=features['cell_type'])\n",
    "    plt.title(col, size=15)\n",
    "    plt.show()"
   ]
  },
  {
   "cell_type": "code",
   "execution_count": null,
   "metadata": {},
   "outputs": [],
   "source": [
    "dfg = features.groupby('cell_type').min()\n",
    "dfg[dfg.columns[7:]]"
   ]
  },
  {
   "cell_type": "code",
   "execution_count": null,
   "metadata": {
    "scrolled": true
   },
   "outputs": [],
   "source": [
    "dfg = features.groupby('cell_type').max()\n",
    "dfg[dfg.columns[5:]]"
   ]
  },
  {
   "cell_type": "code",
   "execution_count": null,
   "metadata": {},
   "outputs": [],
   "source": [
    "dfg = features.groupby(['cell_type', 'fold']).min()\n",
    "dfg[dfg.columns[6:]]"
   ]
  },
  {
   "cell_type": "code",
   "execution_count": null,
   "metadata": {},
   "outputs": [],
   "source": [
    "dfg =features.groupby(['cell_type', 'fold']).max()\n",
    "dfg[dfg.columns[4:]]"
   ]
  },
  {
   "cell_type": "code",
   "execution_count": null,
   "metadata": {},
   "outputs": [],
   "source": [
    "df = prepare_data(fix=True)\n",
    "\n",
    "df = df.sort_values('sample_id').reset_index(drop=True)\n",
    "\n",
    "dataset = SartoriusDataset(df, pipelines['val_viz'], precompute_masks=False)"
   ]
  },
  {
   "cell_type": "code",
   "execution_count": null,
   "metadata": {},
   "outputs": [],
   "source": [
    "df['plate'] = df['sample_id'].apply(lambda x: x.split('_')[0])\n",
    "df['plate_well'] = df['sample_id'].apply(lambda x: x.split('-')[0])"
   ]
  },
  {
   "cell_type": "code",
   "execution_count": null,
   "metadata": {},
   "outputs": [],
   "source": [
    "df['plate'].unique()"
   ]
  },
  {
   "cell_type": "code",
   "execution_count": null,
   "metadata": {},
   "outputs": [],
   "source": [
    "df_plot = df[df['plate'] == \"astros[cereb]\"].reset_index(drop=True)\n",
    "\n",
    "dataset = SartoriusDataset(df_plot, pipelines['val_viz'], precompute_masks=False)"
   ]
  },
  {
   "cell_type": "code",
   "execution_count": null,
   "metadata": {
    "scrolled": true
   },
   "outputs": [],
   "source": [
    "for idx in range(min(10, len(df_plot))):\n",
    "    \n",
    "    data = dataset[idx]\n",
    "\n",
    "    masks = np.array([rle_decode(enc, ORIG_SIZE) for enc in df_plot['annotation'][idx]])\n",
    "\n",
    "    img = data['img']\n",
    "    boxes = data['gt_bboxes']\n",
    "\n",
    "    plt.figure(figsize=(15, 15))\n",
    "    plot_sample(img, masks, plotly=False)\n",
    "    plt.axis(False)\n",
    "    plt.title(df_plot['sample_id'][idx])\n",
    "    plt.show()\n",
    "\n",
    "#     break"
   ]
  },
  {
   "cell_type": "code",
   "execution_count": null,
   "metadata": {
    "scrolled": false
   },
   "outputs": [],
   "source": [
    "for idx in range(min(10, len(df_plot))):\n",
    "    \n",
    "    data = dataset[idx]\n",
    "\n",
    "    masks = np.array([rle_decode(enc, ORIG_SIZE) for enc in df_plot['annotation'][idx]])\n",
    "\n",
    "    img = data['img']\n",
    "    boxes = data['gt_bboxes']\n",
    "\n",
    "    plt.figure(figsize=(15, 15))\n",
    "    plot_sample(img, masks, plotly=False)\n",
    "    plt.axis(False)\n",
    "    plt.title(df_plot['sample_id'][idx])\n",
    "    plt.show()\n",
    "\n",
    "#     break"
   ]
  },
  {
   "cell_type": "markdown",
   "metadata": {},
   "source": [
    "## Model"
   ]
  },
  {
   "cell_type": "code",
   "execution_count": null,
   "metadata": {},
   "outputs": [],
   "source": [
    "from data.loader import define_loaders\n",
    "from training.optim import define_optimizer\n",
    "\n",
    "from model_zoo.models import define_model"
   ]
  },
  {
   "cell_type": "code",
   "execution_count": null,
   "metadata": {
    "scrolled": false
   },
   "outputs": [],
   "source": [
    "model = define_model(\"configs/config_maskrcnn.py\", encoder=\"resnet50\")"
   ]
  },
  {
   "cell_type": "code",
   "execution_count": null,
   "metadata": {},
   "outputs": [],
   "source": [
    "pipelines = define_pipelines(\"configs/config_aug.py\")"
   ]
  },
  {
   "cell_type": "code",
   "execution_count": null,
   "metadata": {},
   "outputs": [],
   "source": [
    "train_dataset = SartoriusDataset(\n",
    "    df.head(1),\n",
    "    pipelines['train'],\n",
    "    precompute_masks=False,\n",
    ")\n",
    "# train_dataset.sample_extra_data(0)\n",
    "\n",
    "test_dataset = SartoriusDataset(df, pipelines['test'], precompute_masks=False)\n",
    "# test_dataset = SartoriusDataset(df, pipelines['test_tta'], precompute_masks=False)\n",
    "\n",
    "train_loader, val_loader = define_loaders(train_dataset, test_dataset, batch_size=1, val_bs=1, num_workers=0)"
   ]
  },
  {
   "cell_type": "code",
   "execution_count": null,
   "metadata": {
    "scrolled": true
   },
   "outputs": [],
   "source": [
    "for batch in tqdm(train_loader):\n",
    "    results = model(**batch, return_loss=True)\n",
    "    \n",
    "#     print(batch['img'].data[0].mean())\n",
    "\n",
    "#     print(results)\n",
    "\n",
    "#     print(batch['img'].data[0].size())    \n",
    "#     print('Allocated:', round(torch.cuda.memory_allocated(0)/1024**3,1), 'GB')\n",
    "#     print('Cached:   ', round(torch.cuda.memory_reserved(0)/1024**3,1), 'GB')\n",
    "\n",
    "    break"
   ]
  },
  {
   "cell_type": "code",
   "execution_count": null,
   "metadata": {
    "scrolled": true
   },
   "outputs": [],
   "source": [
    "for batch in tqdm(train_loader):\n",
    "    results = model(**batch, return_loss=True)\n",
    "\n",
    "    print(results)\n",
    "\n",
    "#     print(batch['img'].data[0].size())    \n",
    "#     print('Allocated:', round(torch.cuda.memory_allocated(0)/1024**3,1), 'GB')\n",
    "#     print('Cached:   ', round(torch.cuda.memory_reserved(0)/1024**3,1), 'GB')\n",
    "\n",
    "#     break\n",
    "\n",
    "    print('''\\n\\n\\n''')"
   ]
  },
  {
   "cell_type": "code",
   "execution_count": null,
   "metadata": {},
   "outputs": [],
   "source": [
    "model = model.eval()\n",
    "with torch.no_grad():\n",
    "    for batch in tqdm(val_loader):\n",
    "        results = model(**batch, return_loss=False, rescale=True)\n",
    "\n",
    "        break"
   ]
  }
 ],
 "metadata": {
  "kernelspec": {
   "display_name": "venv",
   "language": "python",
   "name": "venv"
  },
  "language_info": {
   "codemirror_mode": {
    "name": "ipython",
    "version": 3
   },
   "file_extension": ".py",
   "mimetype": "text/x-python",
   "name": "python",
   "nbconvert_exporter": "python",
   "pygments_lexer": "ipython3",
   "version": "3.8.5"
  }
 },
 "nbformat": 4,
 "nbformat_minor": 4
}
