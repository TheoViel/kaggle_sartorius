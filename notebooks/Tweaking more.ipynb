{
 "cells": [
  {
   "cell_type": "markdown",
   "metadata": {},
   "source": [
    "**About** : This notebook is used to tweak ensemble params"
   ]
  },
  {
   "cell_type": "code",
   "execution_count": null,
   "metadata": {},
   "outputs": [],
   "source": [
    "# %load_ext nb_black\n",
    "%load_ext autoreload\n",
    "%autoreload 2"
   ]
  },
  {
   "cell_type": "code",
   "execution_count": null,
   "metadata": {},
   "outputs": [],
   "source": [
    "cd ../src/"
   ]
  },
  {
   "cell_type": "markdown",
   "metadata": {},
   "source": [
    "## Initialization"
   ]
  },
  {
   "cell_type": "markdown",
   "metadata": {},
   "source": [
    "### Imports"
   ]
  },
  {
   "cell_type": "code",
   "execution_count": null,
   "metadata": {},
   "outputs": [],
   "source": [
    "import gc\n",
    "import os\n",
    "import ast\n",
    "import sys\n",
    "import cv2\n",
    "import glob\n",
    "import json\n",
    "import torch\n",
    "import warnings\n",
    "import numpy as np\n",
    "import pandas as pd\n",
    "import seaborn as sns\n",
    "import plotly.express as px\n",
    "import matplotlib.pyplot as plt\n",
    "\n",
    "from itertools import product\n",
    "from tqdm.notebook import tqdm\n",
    "from collections import Counter\n",
    "warnings.simplefilter(\"ignore\", UserWarning)"
   ]
  },
  {
   "cell_type": "code",
   "execution_count": null,
   "metadata": {},
   "outputs": [],
   "source": [
    "from params import *\n",
    "\n",
    "from utils.plots import *\n",
    "from utils.metrics import *\n",
    "from utils.logger import Config, prepare_log_folder, create_logger\n",
    "from utils.rle import rle_encode, rle_decode\n",
    "\n",
    "from inference.tweaking import *\n",
    "from inference.validation import *\n",
    "from inference.post_process import *\n",
    "\n",
    "from data.preparation import prepare_data\n",
    "from data.dataset import SartoriusDataset\n",
    "from data.transforms import define_pipelines\n",
    "from inference.validation import inference_val"
   ]
  },
  {
   "cell_type": "markdown",
   "metadata": {},
   "source": [
    "## Exps"
   ]
  },
  {
   "cell_type": "code",
   "execution_count": null,
   "metadata": {},
   "outputs": [],
   "source": [
    "EXP_FOLDERS = [  # ENS_6\n",
    "    LOG_PATH + \"2021-12-02/7/\",  # 7. Cascade b5 - 0.3179\n",
    "    LOG_PATH + \"2021-12-03/0/\",  # 8. Cascade rx101 - 0.3189\n",
    "#     LOG_PATH + \"2021-11-30/2/\",  # 2. Cascade r50   - 0.3168\n",
    "    LOG_PATH + \"seb/mrcnn_resnext101_aug_2021-12-06/\",  # 18.  maskrcnn rx101 - 0.3197\n",
    "    LOG_PATH + \"seb/maskrcnn_resnet50_2021-12-01/\",  # 6. maskrcnn r50 - 0.3173\n",
    "]"
   ]
  },
  {
   "cell_type": "code",
   "execution_count": null,
   "metadata": {},
   "outputs": [],
   "source": [
    "EXP_FOLDERS = [  # new folds\n",
    "    LOG_PATH + \"2021-12-11/2/\",  # 1. Cascade b5 - 0.3127\n",
    "    LOG_PATH + \"2021-12-11/4/\",  # 2. Cascade rx101 - 0.3141\n",
    "    LOG_PATH + \"2021-12-12/0/\",  # 3. Cascade r50 - 0.3125\n",
    "#     LOG_PATH + \"2021-12-12/1/\",  # 4. Cascade rx101 - 0.3139\n",
    "#     LOG_PATH + \"2021-12-12/4/\",  # 5. Cascade rx50 - 0.3124\n",
    "#     LOG_PATH + \"2021-12-13/1/\",  # 6. Cascade rx101 - 0.3127\n",
    "    LOG_PATH + \"seb/mrcnn_resnext101_new_splits/\", # 7. maskrcnn rx101 - 0.3120\n",
    "    LOG_PATH + \"seb/mrcnn_resnet50_new_splits/\", # 8. maskrcnn r50 - 0.3118\n",
    "]"
   ]
  },
  {
   "cell_type": "markdown",
   "metadata": {},
   "source": [
    "## Inference"
   ]
  },
  {
   "cell_type": "code",
   "execution_count": null,
   "metadata": {},
   "outputs": [],
   "source": [
    "configs, weights = [], []\n",
    "\n",
    "for exp_folder in EXP_FOLDERS:\n",
    "    config = Config(json.load(open(exp_folder + \"config.json\", 'r')))\n",
    "\n",
    "    config.model_config = exp_folder + config.model_config.split('/')[-1]\n",
    "    config.data_config = exp_folder + config.data_config.split('/')[-1]\n",
    "\n",
    "    try:\n",
    "        _ = config.split\n",
    "        remove_anomalies = config.remove_anomalies\n",
    "    except:\n",
    "        config.split = \"skf\"\n",
    "        remove_anomalies = False\n",
    "\n",
    "    configs.append(config)\n",
    "    \n",
    "#     weights.append(sorted(glob.glob(exp_folder + \"*.pt\")))\n",
    "    weights.append(sorted(glob.glob(exp_folder + \"*.pt\"))[:1])"
   ]
  },
  {
   "cell_type": "code",
   "execution_count": null,
   "metadata": {},
   "outputs": [],
   "source": [
    "df = prepare_data(fix=False, remove_anomalies=remove_anomalies)"
   ]
  },
  {
   "cell_type": "code",
   "execution_count": null,
   "metadata": {},
   "outputs": [],
   "source": [
    "ENSEMBLE_CONFIG = {\n",
    "    \"use_tta\": True,\n",
    "    \"num_classes\": 3,\n",
    "\n",
    "    \"rpn_nms_pre\": [5000, 2000, 1000],\n",
    "    \"rpn_iou_threshold\": [0.7, 0.75, 0.7],\n",
    "    \"rpn_score_threshold\": [0.9, 0.8, 0.9],\n",
    "    \"rpn_max_per_img\": [None, None, None],  # [1500, 1000, 500],\n",
    "\n",
    "    \"bbox_nms\": True,\n",
    "    \"rcnn_iou_threshold\": [0.7, 0.9, 0.7],\n",
    "    \"rcnn_score_threshold\": [0.2, 0.35, 0.55],\n",
    "}"
   ]
  },
  {
   "cell_type": "code",
   "execution_count": null,
   "metadata": {},
   "outputs": [],
   "source": [
    "ENSEMBLE_CONFIG = {\n",
    "    \"use_tta\": True,\n",
    "    \"num_classes\": 3,\n",
    "\n",
    "    \"rpn_nms_pre\": [3000, 2000, 1000],\n",
    "    \"rpn_iou_threshold\": [0.75, 0.75, 0.6],\n",
    "    \"rpn_score_threshold\": [0.95, 0.9, 0.95],\n",
    "    \"rpn_max_per_img\": [None, None, None],  # [1500, 1000, 500],\n",
    "\n",
    "    \"bbox_nms\": True,\n",
    "    \"rcnn_iou_threshold\": [0.75, 0.9, 0.6],\n",
    "    \"rcnn_score_threshold\": [0.2, 0.25, 0.5],\n",
    "}"
   ]
  },
  {
   "cell_type": "code",
   "execution_count": null,
   "metadata": {},
   "outputs": [],
   "source": [
    "RPN_NMS_PRES = [\n",
    "    [5000],\n",
    "    [2000],\n",
    "    [1000],\n",
    "]\n",
    "RPN_IOU_THS = [\n",
    "    [0.65, 0.7],\n",
    "    [0.75],\n",
    "    [0.5, 0.6, 0.7],\n",
    "]\n",
    "RPN_SCORE_THS = [\n",
    "    [0.8, 0.9],\n",
    "    [0.8],\n",
    "    [0.8, 0.9, 0.95],\n",
    "]\n",
    "\n",
    "RCNN_IOU_THS = [\n",
    "    [0],\n",
    "    [0.9, 0.95],\n",
    "    [0]\n",
    "]"
   ]
  },
  {
   "cell_type": "code",
   "execution_count": null,
   "metadata": {},
   "outputs": [],
   "source": [
    "count = 0\n",
    "\n",
    "for class_idx, cell_type in enumerate(CELL_TYPES):\n",
    "    for rpn_nms_pre, rpn_iou_threshold, rpn_score_threshold, rcnn_iou_threshold in product(\n",
    "        RPN_NMS_PRES[class_idx], RPN_IOU_THS[class_idx], RPN_SCORE_THS[class_idx], RCNN_IOU_THS[class_idx]\n",
    "    ):\n",
    "        if rcnn_iou_threshold == 0:\n",
    "            rcnn_iou_threshold = rpn_iou_threshold\n",
    "        if rcnn_iou_threshold < rpn_iou_threshold:\n",
    "            continue\n",
    "            \n",
    "        count += 1\n",
    "        \n",
    "print(f'Duration : {count * 8 / 60 / 3 :.1f}h')"
   ]
  },
  {
   "cell_type": "code",
   "execution_count": null,
   "metadata": {},
   "outputs": [],
   "source": [
    "thresholds_mask = [0.45]  # [0.4, 0.45, 0.5]\n",
    "thresholds_nms = [0.05, 0.1, 0.15]\n",
    "thresholds_conf = [np.round(0.05 * i, 2) for i in range(4, 17)]\n",
    "\n",
    "best_thresholds_mask = [0.45, 0.45, 0.45]\n",
    "best_thresholds_nms = [0.1, 0.1, 0.05]\n",
    "best_thresholds_conf = [0.3, 0.4, 0.7]\n",
    "\n",
    "CLASSES = CELL_TYPES\n",
    "pipelines = define_pipelines(config.data_config)"
   ]
  },
  {
   "cell_type": "code",
   "execution_count": null,
   "metadata": {
    "scrolled": false
   },
   "outputs": [],
   "source": [
    "%%time\n",
    "\n",
    "log_folder = prepare_log_folder(LOG_PATH + \"tweak/\")\n",
    "print(f\"Logging results to {log_folder}\\n\")\n",
    "create_logger(directory=log_folder, name=\"logs.txt\")\n",
    "\n",
    "for class_idx, cell_type in enumerate(CELL_TYPES):\n",
    "    print('#' * (len(cell_type) + 4))\n",
    "    print(f'# {cell_type} #')\n",
    "    print('#' * (len(cell_type) + 4) + \"\\n\")\n",
    "    \n",
    "    for rpn_nms_pre, rpn_iou_threshold, rpn_score_threshold, rcnn_iou_threshold in product(\n",
    "        RPN_NMS_PRES[class_idx], RPN_IOU_THS[class_idx], RPN_SCORE_THS[class_idx], RCNN_IOU_THS[class_idx]\n",
    "    ):\n",
    "        if rcnn_iou_threshold == 0:\n",
    "            rcnn_iou_threshold = rpn_iou_threshold\n",
    "\n",
    "        if rcnn_iou_threshold < rpn_iou_threshold:\n",
    "            continue\n",
    "\n",
    "        print(\"rpn_nms_pre : \", rpn_nms_pre)\n",
    "        print(\"rpn_iou_threshold : \", rpn_iou_threshold)\n",
    "        print(\"rpn_score_threshold : \", rpn_score_threshold)\n",
    "        print(\"rcnn_iou_threshold : \", rcnn_iou_threshold)\n",
    "        \n",
    "        ENSEMBLE_CONFIG['rpn_nms_pre'] = [rpn_nms_pre] * 3\n",
    "        ENSEMBLE_CONFIG['rpn_iou_threshold'] = [rpn_iou_threshold] * 3\n",
    "        ENSEMBLE_CONFIG['rpn_score_threshold'] = [rpn_score_threshold] * 3\n",
    "        ENSEMBLE_CONFIG['rcnn_iou_threshold'] = [rcnn_iou_threshold] * 3\n",
    "\n",
    "        all_results, dfs_val = inference_val(\n",
    "            df.copy(), configs, weights, ENSEMBLE_CONFIG, verbose=0, cell_type=cell_type\n",
    "        )\n",
    "        \n",
    "        dataset = SartoriusDataset(dfs_val[0], transforms=pipelines['val_viz'], precompute_masks=False)\n",
    "\n",
    "        scores_tweak = tweak_thresholds(\n",
    "            all_results[0],\n",
    "            dataset,\n",
    "            thresholds_mask,\n",
    "            thresholds_nms,\n",
    "            thresholds_conf,\n",
    "            num_classes=len(CLASSES),\n",
    "            remove_overlap=True,\n",
    "            corrupt=True,\n",
    "            cell_types=None\n",
    "        )\n",
    "\n",
    "        best_thresholds_mask, best_thresholds_nms, best_thresholds_conf = [], [], []\n",
    "        best_scores = []\n",
    "\n",
    "        scores_class = scores_tweak[class_idx].mean(2) \n",
    "        idx = np.unravel_index(np.argmax(scores_class, axis=None), scores_class.shape)\n",
    "        best_score = scores_class[idx]\n",
    "        best_thresholds = (thresholds_mask[idx[0]], thresholds_nms[idx[1]], thresholds_conf[idx[2]])\n",
    "\n",
    "        print(f\"Best score {best_score:.4f} for thresholds (mask, nms, conf): {best_thresholds}\\n\")\n",
    "\n",
    "        del all_results, dfs_val\n",
    "        gc.collect()\n",
    "        \n",
    "#         break"
   ]
  }
 ],
 "metadata": {
  "kernelspec": {
   "display_name": "venv",
   "language": "python",
   "name": "venv"
  },
  "language_info": {
   "codemirror_mode": {
    "name": "ipython",
    "version": 3
   },
   "file_extension": ".py",
   "mimetype": "text/x-python",
   "name": "python",
   "nbconvert_exporter": "python",
   "pygments_lexer": "ipython3",
   "version": "3.8.5"
  }
 },
 "nbformat": 4,
 "nbformat_minor": 4
}
