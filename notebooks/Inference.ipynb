{
 "cells": [
  {
   "cell_type": "markdown",
   "metadata": {},
   "source": [
    "**About** : This notebook is used to do inference on the train data, and evaluate models.\n",
    "  - Use the `log_folder` parameter to specify the experiment.\n",
    "  - Use the `use_tta` parameter to speciy whether to use test time augmentations.\n",
    "  - Use the `save` parameter to save predictions.\n",
    "  - Use the `save_all_tta` parameter to save predictions for each tta.\n",
    "  - Use the `global_threshold` parameter to tweak the threshold."
   ]
  },
  {
   "cell_type": "code",
   "execution_count": null,
   "metadata": {},
   "outputs": [],
   "source": [
    "# %load_ext nb_black\n",
    "%load_ext autoreload\n",
    "%autoreload 2"
   ]
  },
  {
   "cell_type": "markdown",
   "metadata": {},
   "source": [
    "## Initialization"
   ]
  },
  {
   "cell_type": "markdown",
   "metadata": {},
   "source": [
    "### Imports"
   ]
  },
  {
   "cell_type": "code",
   "execution_count": null,
   "metadata": {},
   "outputs": [],
   "source": [
    "import os\n",
    "import sys\n",
    "import json\n",
    "import torch\n",
    "import warnings\n",
    "import numpy as np\n",
    "import pandas as pd\n",
    "import seaborn as sns\n",
    "\n",
    "from tqdm.notebook import tqdm\n",
    "from matplotlib import pyplot as plt\n",
    "\n",
    "sys.path.append(\"../code/\")\n",
    "# warnings.simplefilter(\"ignore\", UserWarning)"
   ]
  },
  {
   "cell_type": "code",
   "execution_count": null,
   "metadata": {},
   "outputs": [],
   "source": [
    "from params import *\n",
    "\n",
    "from inference.main import k_fold_inf\n",
    "\n",
    "from data.dataset import InferenceDataset\n",
    "from data.transforms import HE_preprocess_test"
   ]
  },
  {
   "cell_type": "markdown",
   "metadata": {},
   "source": [
    "### Main"
   ]
  },
  {
   "cell_type": "code",
   "execution_count": null,
   "metadata": {},
   "outputs": [],
   "source": [
    "log_folder = \"../logs/2021-05-06/1/\"  # 940\n",
    "log_folder = \"../logs/2021-05-09/2/\"  # b1 last"
   ]
  },
  {
   "cell_type": "code",
   "execution_count": null,
   "metadata": {},
   "outputs": [],
   "source": [
    "class Config:\n",
    "    def __init__(self, **entries):\n",
    "        self.__dict__.update(entries)\n",
    "\n",
    "config = json.load(open(log_folder + 'config.json', 'r'))\n",
    "config = Config(**config)"
   ]
  },
  {
   "cell_type": "code",
   "execution_count": null,
   "metadata": {
    "scrolled": true
   },
   "outputs": [],
   "source": [
    "df = pd.read_csv(OUT_PATH + f\"df_images_256_4.csv\")"
   ]
  },
  {
   "cell_type": "code",
   "execution_count": null,
   "metadata": {},
   "outputs": [],
   "source": [
    "config.overlap_factor = 1.5\n",
    "use_tta = False\n",
    "global_threshold = 0.5\n",
    "config.selected_folds = [0, 1, 2, 3, 4]\n",
    "save = False\n",
    "save_all_tta = False"
   ]
  },
  {
   "cell_type": "code",
   "execution_count": null,
   "metadata": {
    "scrolled": false
   },
   "outputs": [],
   "source": [
    "%%time\n",
    "scores = k_fold_inf(\n",
    "    config,\n",
    "    df,\n",
    "    log_folder=log_folder,\n",
    "    use_full_size=False,\n",
    "    global_threshold=global_threshold,\n",
    "    use_tta=use_tta,\n",
    "    save=save,\n",
    "    save_all_tta=save_all_tta,\n",
    ")"
   ]
  },
  {
   "cell_type": "code",
   "execution_count": null,
   "metadata": {
    "scrolled": false
   },
   "outputs": [],
   "source": [
    "print(f'Local CV score is {np.mean(scores):.4f} for threshold {global_threshold}')   # 1.5"
   ]
  }
 ],
 "metadata": {
  "kernelspec": {
   "display_name": "venv",
   "language": "python",
   "name": "venv"
  },
  "language_info": {
   "codemirror_mode": {
    "name": "ipython",
    "version": 3
   },
   "file_extension": ".py",
   "mimetype": "text/x-python",
   "name": "python",
   "nbconvert_exporter": "python",
   "pygments_lexer": "ipython3",
   "version": "3.8.5"
  }
 },
 "nbformat": 4,
 "nbformat_minor": 4
}
