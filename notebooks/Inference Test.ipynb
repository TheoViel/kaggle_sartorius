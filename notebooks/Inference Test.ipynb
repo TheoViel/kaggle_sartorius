{
 "cells": [
  {
   "cell_type": "markdown",
   "metadata": {},
   "source": [
    "**About** : This notebook is used to do inference on test data\n",
    "\n",
    "OUTDATED"
   ]
  },
  {
   "cell_type": "code",
   "execution_count": null,
   "metadata": {},
   "outputs": [],
   "source": [
    "# %load_ext nb_black\n",
    "%load_ext autoreload\n",
    "%autoreload 2"
   ]
  },
  {
   "cell_type": "code",
   "execution_count": null,
   "metadata": {},
   "outputs": [],
   "source": [
    "cd ../src/"
   ]
  },
  {
   "cell_type": "markdown",
   "metadata": {},
   "source": [
    "## Initialization"
   ]
  },
  {
   "cell_type": "markdown",
   "metadata": {},
   "source": [
    "### Imports"
   ]
  },
  {
   "cell_type": "code",
   "execution_count": null,
   "metadata": {},
   "outputs": [],
   "source": [
    "import gc\n",
    "import os\n",
    "import ast\n",
    "import sys\n",
    "import cv2\n",
    "import glob\n",
    "import json\n",
    "import torch\n",
    "import warnings\n",
    "import numpy as np\n",
    "import pandas as pd\n",
    "import seaborn as sns\n",
    "import plotly.express as px\n",
    "import matplotlib.pyplot as plt\n",
    "\n",
    "from tqdm.notebook import tqdm\n",
    "from sklearn.model_selection import StratifiedKFold\n",
    "warnings.simplefilter(\"ignore\", UserWarning)"
   ]
  },
  {
   "cell_type": "code",
   "execution_count": null,
   "metadata": {},
   "outputs": [],
   "source": [
    "from params import *\n",
    "from utils.plots import *\n",
    "\n",
    "from utils.logger import Config\n",
    "from inference.test import inference_test"
   ]
  },
  {
   "cell_type": "markdown",
   "metadata": {},
   "source": [
    "## Exp"
   ]
  },
  {
   "cell_type": "code",
   "execution_count": null,
   "metadata": {},
   "outputs": [],
   "source": [
    "EXP_FOLDERS = [\n",
    "    LOG_PATH + \"2021-11-10/21/\",  # 0.3084 / 0.3046\n",
    "]\n",
    "\n",
    "THRESHOLDS_CONF = [0.3, 0.35, 0.7]  \n",
    "THRESHOLDS_MASK = [0.45, 0.4, 0.45]\n",
    "\n",
    "USE_TTA = True"
   ]
  },
  {
   "cell_type": "markdown",
   "metadata": {},
   "source": [
    "## Data"
   ]
  },
  {
   "cell_type": "code",
   "execution_count": null,
   "metadata": {},
   "outputs": [],
   "source": [
    "from data.preparation import prepare_extra_data\n",
    "df = prepare_extra_data()\n",
    "\n",
    "# df = pd.read_csv(DATA_PATH + \"sample_submission.csv\")\n",
    "# df['img_path'] = DATA_PATH + \"test/\" + df['id'] + \".png\""
   ]
  },
  {
   "cell_type": "code",
   "execution_count": null,
   "metadata": {},
   "outputs": [],
   "source": [
    "configs, weights = [], []\n",
    "\n",
    "for exp_folder in EXP_FOLDERS:\n",
    "    config = Config(json.load(open(exp_folder + \"config.json\", 'r')))\n",
    "    config.model_config = exp_folder + config.model_config.split('/')[-1]\n",
    "    config.data_config = exp_folder + config.data_config.split('/')[-1]\n",
    "    configs.append(config)\n",
    "\n",
    "    weights.append(sorted(glob.glob(exp_folder + \"*.pt\")))"
   ]
  },
  {
   "cell_type": "markdown",
   "metadata": {},
   "source": [
    "## Main"
   ]
  },
  {
   "cell_type": "code",
   "execution_count": null,
   "metadata": {},
   "outputs": [],
   "source": [
    "weights = [[weights[0][0]]]"
   ]
  },
  {
   "cell_type": "code",
   "execution_count": null,
   "metadata": {
    "scrolled": true
   },
   "outputs": [],
   "source": [
    "results = inference_test(df, configs, weights, use_tta=False)"
   ]
  },
  {
   "cell_type": "markdown",
   "metadata": {},
   "source": [
    "## Viz"
   ]
  },
  {
   "cell_type": "code",
   "execution_count": null,
   "metadata": {},
   "outputs": [],
   "source": [
    "from params import CELL_TYPES\n",
    "from inference.post_process import post_process_preds\n",
    "from utils.plots import plot_sample\n",
    "from data.dataset import SartoriusInferenceDataset\n",
    "from data.transforms import define_pipelines"
   ]
  },
  {
   "cell_type": "code",
   "execution_count": null,
   "metadata": {},
   "outputs": [],
   "source": [
    "cells = []\n",
    "for result in results:\n",
    "    lens = [len(boxes_c) for boxes_c, masks_c in zip(result[0], result[1])]\n",
    "    cell = np.argmax(lens)\n",
    "    cells.append(cell)\n",
    "    \n",
    "sns.countplot(x=cells)\n",
    "plt.xticks(range(3), CELL_TYPES)\n",
    "plt.show()"
   ]
  },
  {
   "cell_type": "code",
   "execution_count": null,
   "metadata": {},
   "outputs": [],
   "source": [
    "THRESHOLDS_CONF = [0.3, 0.35, 0.7]\n",
    "THRESHOLDS_MASK = [0.45, 0.4, 0.45]"
   ]
  },
  {
   "cell_type": "code",
   "execution_count": null,
   "metadata": {
    "scrolled": false
   },
   "outputs": [],
   "source": [
    "pipelines = define_pipelines(config.data_config)\n",
    "dataset = SartoriusInferenceDataset(df, transforms=pipelines['test_viz'], precompute_masks=False)\n",
    "counts = []\n",
    "for idx in range(len(dataset)):\n",
    "    img = dataset[idx]['img'][0].numpy().transpose(1, 2, 0)\n",
    "    img = (img - img.min()) / (img.max() - img.min())\n",
    "    \n",
    "    lens = [len(boxes_c) for boxes_c, masks_c in zip(results[idx][0], results[idx][1])]\n",
    "    counts.append(lens)\n",
    "    \n",
    "    cell_type = np.argmax(lens)\n",
    "    \n",
    "#     if lens[1] < 5 and lens[2] < 5:\n",
    "#         continue\n",
    "\n",
    "    print(idx, lens)\n",
    "    \n",
    "    masks, boxes, _ = post_process_preds(results[idx], THRESHOLDS_CONF, THRESHOLDS_MASK, remove_overlap=False)\n",
    "\n",
    "    plt.figure(figsize=(15, 15))\n",
    "    plot_sample(img, masks.astype(int), boxes, plotly=False)\n",
    "    plt.axis(False)\n",
    "    plt.title(CELL_TYPES[cell_type])\n",
    "    plt.show()\n",
    "    \n",
    "    if idx > 10:\n",
    "        break"
   ]
  },
  {
   "cell_type": "code",
   "execution_count": null,
   "metadata": {},
   "outputs": [],
   "source": [
    "counts = np.array(counts)\n",
    "counts.shape\n",
    "np.save(\"../output/counts_livecell_shsy5y.npy\", counts)"
   ]
  }
 ],
 "metadata": {
  "kernelspec": {
   "display_name": "venv",
   "language": "python",
   "name": "venv"
  },
  "language_info": {
   "codemirror_mode": {
    "name": "ipython",
    "version": 3
   },
   "file_extension": ".py",
   "mimetype": "text/x-python",
   "name": "python",
   "nbconvert_exporter": "python",
   "pygments_lexer": "ipython3",
   "version": "3.8.5"
  }
 },
 "nbformat": 4,
 "nbformat_minor": 4
}
